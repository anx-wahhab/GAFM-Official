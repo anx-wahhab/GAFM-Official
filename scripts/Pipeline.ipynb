{
 "cells": [
  {
   "cell_type": "code",
   "execution_count": null,
   "id": "initial_id",
   "metadata": {
    "collapsed": true
   },
   "outputs": [],
   "source": [
    "import os\n",
    "import torch\n",
    "import joblib\n",
    "import torchvision.transforms as transforms"
   ]
  },
  {
   "metadata": {},
   "cell_type": "code",
   "outputs": [],
   "execution_count": null,
   "source": [
    "device = torch.device('cuda' if torch.cuda.is_available() else 'cpu')\n",
    "device"
   ],
   "id": "4b9f8e02c250997"
  },
  {
   "metadata": {},
   "cell_type": "code",
   "outputs": [],
   "execution_count": null,
   "source": [
    "model_name = 'resnet50'\n",
    "\n",
    "path_1 = os.path.join('..', 'fine_tuned_models', model_name, 'resnet50_featExtractor.pt')\n",
    "path_2 = os.path.join('..', 'fine_tuned_models', model_name, 'best_Regression_model.pth')\n",
    "scaler_path = os.path.join('..', 'fine_tuned_models', model_name, 'scaler.pkl')\n",
    "\n",
    "feat_extractor = torch.load(path_1, map_location=device)\n",
    "income_predictor = torch.load(path_2, map_location=device)\n",
    "scaler = joblib.load(scaler_path)\n",
    "\n",
    "feat_extractor.eval()\n",
    "income_predictor.eval()"
   ],
   "id": "d56d6649020bd970"
  },
  {
   "metadata": {},
   "cell_type": "code",
   "outputs": [],
   "execution_count": null,
   "source": [
    "def extract_features_and_predict_income(image_path, feature_extractor, income_pred):\n",
    "\n",
    "    # Define transformations to preprocess the input image\n",
    "    transform = transforms.Compose([\n",
    "        transforms.Resize((299, 299)),  # Resize to the input size of the model\n",
    "        transforms.CenterCrop(299),\n",
    "        transforms.ToTensor(),           # Convert image to tensor\n",
    "        transforms.Normalize(mean=[0.485, 0.456, 0.406], std=[0.229, 0.224, 0.225]),  # Normalize\n",
    "    ])\n",
    "\n",
    "    # Load and preprocess the image\n",
    "    image = Image.open(image_path).convert('RGB')\n",
    "    input_tensor = transform(image).unsqueeze(0)  # Add a batch dimension\n",
    "    input_tensor = input_tensor.to(device)\n",
    "\n",
    "    # Extract features\n",
    "    with torch.no_grad():\n",
    "        features = feature_extractor(input_tensor)\n",
    "    features = features.cpu().numpy().flatten()  # Convert to numpy array and flatten\n",
    "\n",
    "    # Convert features to tensor and pass through regression model\n",
    "    features_tensor = torch.tensor(features, dtype=torch.float32).unsqueeze(0).to(device)\n",
    "\n",
    "    with torch.no_grad():\n",
    "        scaled_income_prediction = income_pred(features_tensor).cpu().numpy().flatten()\n",
    "    income_prediction = scaler.inverse_transform(scaled_income_prediction.reshape(-1, 1)).flatten()\n",
    "\n",
    "    return income_prediction[0]"
   ],
   "id": "a66a6e2b97b13758"
  },
  {
   "metadata": {},
   "cell_type": "code",
   "outputs": [],
   "execution_count": null,
   "source": "extract_features_and_predict_income(\"24.6503_68.501.png\", feat_extractor, income_predictor)",
   "id": "4d4c95bfbcb1784d"
  }
 ],
 "metadata": {
  "kernelspec": {
   "display_name": "Python 3",
   "language": "python",
   "name": "python3"
  },
  "language_info": {
   "codemirror_mode": {
    "name": "ipython",
    "version": 2
   },
   "file_extension": ".py",
   "mimetype": "text/x-python",
   "name": "python",
   "nbconvert_exporter": "python",
   "pygments_lexer": "ipython2",
   "version": "2.7.6"
  }
 },
 "nbformat": 4,
 "nbformat_minor": 5
}
